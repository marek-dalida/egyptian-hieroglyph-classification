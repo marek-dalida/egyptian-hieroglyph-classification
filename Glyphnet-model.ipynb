{
 "cells": [
  {
   "cell_type": "code",
   "execution_count": 1,
   "id": "liable-treasurer",
   "metadata": {},
   "outputs": [],
   "source": [
    "import tensorflow as tf\n",
    "import os\n",
    "import numpy as np\n",
    "import pandas as pd\n",
    "import matplotlib.pyplot as plt\n",
    "import sys\n",
    "\n",
    "import skimage\n",
    "from skimage import io\n",
    "from skimage.transform import resize\n",
    "\n",
    "from sklearn.metrics import confusion_matrix, ConfusionMatrixDisplay\n",
    "import pandas as pd\n",
    "import seaborn as sn"
   ]
  },
  {
   "cell_type": "markdown",
   "id": "pending-cooler",
   "metadata": {},
   "source": [
    "Links\n",
    " - https://drive.google.com/drive/folders/1bhnMJ8NbCa-qw53EKy-olZp3cJKZU_jc\n",
    " - https://drive.google.com/drive/folders/1X5HdFvgWJOVtA-GxBLr1K_0FHJS2RZcZ\n",
    " - https://ieeexplore.ieee.org/stamp/stamp.jsp?arnumber=9528382&tag=1"
   ]
  },
  {
   "cell_type": "code",
   "execution_count": 2,
   "id": "bright-shuttle",
   "metadata": {},
   "outputs": [],
   "source": [
    "train_dir = os.path.join(sys.path[0], 'train/')\n",
    "test_dir = os.path.join(sys.path[0], 'test/')"
   ]
  },
  {
   "cell_type": "code",
   "execution_count": 3,
   "id": "removed-portugal",
   "metadata": {},
   "outputs": [],
   "source": [
    "def readHieroglyphData(data_dir):\n",
    "    images = []\n",
    "    targets = []\n",
    "    for hier in os.listdir(data_dir):\n",
    "        if not os.path.isdir(os.path.join(data_dir, hier)):\n",
    "            continue\n",
    "        for img in os.listdir(os.path.join(data_dir, hier)):\n",
    "            targets.append(hier)\n",
    "            images.append(np.asarray(io.imread(os.path.join(data_dir, hier, img))))\n",
    "    return images, targets"
   ]
  },
  {
   "cell_type": "code",
   "execution_count": 4,
   "id": "bibliographic-tradition",
   "metadata": {},
   "outputs": [],
   "source": [
    "def resizeImageData(data, image_size):\n",
    "    resize_func = lambda img: resize(img, (image_size, image_size), anti_aliasing=True)\n",
    "    resized_data = list(map(resize_func, data))\n",
    "    return resized_data"
   ]
  },
  {
   "cell_type": "code",
   "execution_count": 5,
   "id": "democratic-mathematics",
   "metadata": {},
   "outputs": [],
   "source": [
    "images_train, targets_train = readHieroglyphData(train_dir)"
   ]
  },
  {
   "cell_type": "code",
   "execution_count": 6,
   "id": "dutch-junior",
   "metadata": {},
   "outputs": [],
   "source": [
    "images_test, targets_test = readHieroglyphData(test_dir)"
   ]
  },
  {
   "cell_type": "code",
   "execution_count": 7,
   "id": "comparative-convertible",
   "metadata": {},
   "outputs": [],
   "source": [
    "images_train = resizeImageData(images_train, 100)\n",
    "images_test = resizeImageData(images_test, 100)"
   ]
  },
  {
   "cell_type": "code",
   "execution_count": 8,
   "id": "excellent-cement",
   "metadata": {},
   "outputs": [
    {
     "name": "stdout",
     "output_type": "stream",
     "text": [
      "['D2', 'D21', 'D36', 'D4', 'D46', 'D58', 'E23', 'E34', 'F31', 'F35', 'G1', 'G17', 'G43', 'I10', 'I9', 'M17', 'M23', 'N35', 'O1', 'O34', 'O4', 'O49', 'Q1', 'Q3', 'R4', 'R8', 'S29', 'S34', 'U7', 'V13', 'V28', 'V30', 'V31', 'W11', 'W24', 'X1', 'X8', 'Y1', 'Y5', 'Z1']\n"
     ]
    }
   ],
   "source": [
    "from sklearn.preprocessing import LabelEncoder\n",
    "\n",
    "le = LabelEncoder()\n",
    "le.fit(targets_train)\n",
    "print(list(le.classes_))"
   ]
  },
  {
   "cell_type": "code",
   "execution_count": 9,
   "id": "flexible-tuner",
   "metadata": {},
   "outputs": [],
   "source": [
    "labels_train = le.transform(targets_train)\n",
    "labels_test = le.transform(targets_test)"
   ]
  },
  {
   "cell_type": "code",
   "execution_count": 10,
   "id": "synthetic-wonder",
   "metadata": {},
   "outputs": [
    {
     "data": {
      "text/plain": [
       "(2467, 100, 100, 1)"
      ]
     },
     "execution_count": 10,
     "metadata": {},
     "output_type": "execute_result"
    }
   ],
   "source": [
    "from tensorflow.keras.utils import to_categorical\n",
    "from sklearn.model_selection import train_test_split\n",
    "\n",
    "num_labels = len(le.classes_)\n",
    "x_train = np.expand_dims(images_train, -1) / 255.\n",
    "x_test = np.expand_dims(images_test, -1) / 255.\n",
    "\n",
    "y_train = to_categorical(labels_train, num_labels)\n",
    "y_test = to_categorical(labels_test, num_labels)\n",
    "\n",
    "x_train.shape"
   ]
  },
  {
   "cell_type": "code",
   "execution_count": 11,
   "id": "married-allergy",
   "metadata": {},
   "outputs": [],
   "source": [
    "from tensorflow.keras.models import Sequential\n",
    "from tensorflow.keras.layers import Dense, Dropout, Activation, Flatten\n",
    "from tensorflow.keras.layers import Conv2D, MaxPooling2D, BatchNormalization, SeparableConv2D, GlobalAveragePooling2D\n",
    "\n",
    "model = Sequential()\n",
    "\n",
    "#first block\n",
    "model.add(Conv2D(64, kernel_size=(3, 3), strides=(1, 1), input_shape=(100, 100, 1), padding='same'))\n",
    "model.add(BatchNormalization())\n",
    "model.add(MaxPooling2D(pool_size=(3, 3), strides=(2, 2)))\n",
    "model.add(Activation('relu'))\n",
    "model.add(Conv2D(64, kernel_size=(3, 3), strides=(1, 1), padding='same'))\n",
    "model.add(BatchNormalization())\n",
    "model.add(MaxPooling2D(pool_size=(3, 3), strides=(2, 2)))\n",
    "model.add(Activation('relu'))\n",
    "\n",
    "#second block\n",
    "model.add(SeparableConv2D(128, kernel_size=(3, 3), strides=(1, 1), padding='same'))\n",
    "model.add(BatchNormalization())\n",
    "model.add(Activation('relu'))\n",
    "model.add(SeparableConv2D(128, kernel_size=(3, 3), strides=(1, 1), padding='same'))\n",
    "model.add(BatchNormalization())\n",
    "model.add(MaxPooling2D(pool_size=(3, 3), strides=(2, 2)))\n",
    "model.add(Activation('relu'))\n",
    "\n",
    "#third block\n",
    "model.add(SeparableConv2D(256, kernel_size=(3, 3), strides=(1, 1), padding='same'))\n",
    "model.add(BatchNormalization())\n",
    "model.add(Activation('relu'))\n",
    "model.add(SeparableConv2D(256, kernel_size=(3, 3), strides=(1, 1), padding='same'))\n",
    "model.add(BatchNormalization())\n",
    "model.add(MaxPooling2D(pool_size=(3, 3), strides=(2, 2)))\n",
    "model.add(Activation('relu'))\n",
    "\n",
    "#fourth block\n",
    "model.add(SeparableConv2D(256, kernel_size=(3, 3), strides=(1, 1), padding='same'))\n",
    "model.add(BatchNormalization())\n",
    "model.add(Activation('relu'))\n",
    "model.add(SeparableConv2D(256, kernel_size=(3, 3), strides=(1, 1), padding='same'))\n",
    "model.add(BatchNormalization())\n",
    "model.add(MaxPooling2D(pool_size=(3, 3), strides=(2, 2)))\n",
    "model.add(Activation('relu'))\n",
    "\n",
    "#fifth block\n",
    "model.add(SeparableConv2D(512, kernel_size=(3, 3), strides=(1, 1), padding='same'))\n",
    "model.add(BatchNormalization())\n",
    "model.add(Activation('relu'))\n",
    "model.add(GlobalAveragePooling2D())\n",
    "model.add(Dropout(0.15))\n",
    "\n",
    "model.add(Dense(256, activation='relu'))\n",
    "model.add(Dropout(0.3))\n",
    "model.add(Dense(128, activation='relu'))\n",
    "model.add(Dropout(0.3))\n",
    "\n",
    "model.add(Dense(num_labels, activation='softmax'))"
   ]
  },
  {
   "cell_type": "code",
   "execution_count": 12,
   "id": "broke-banana",
   "metadata": {},
   "outputs": [
    {
     "name": "stdout",
     "output_type": "stream",
     "text": [
      "Model: \"sequential\"\n",
      "_________________________________________________________________\n",
      "Layer (type)                 Output Shape              Param #   \n",
      "=================================================================\n",
      "conv2d (Conv2D)              (None, 100, 100, 64)      640       \n",
      "_________________________________________________________________\n",
      "batch_normalization (BatchNo (None, 100, 100, 64)      256       \n",
      "_________________________________________________________________\n",
      "max_pooling2d (MaxPooling2D) (None, 49, 49, 64)        0         \n",
      "_________________________________________________________________\n",
      "activation (Activation)      (None, 49, 49, 64)        0         \n",
      "_________________________________________________________________\n",
      "conv2d_1 (Conv2D)            (None, 49, 49, 64)        36928     \n",
      "_________________________________________________________________\n",
      "batch_normalization_1 (Batch (None, 49, 49, 64)        256       \n",
      "_________________________________________________________________\n",
      "max_pooling2d_1 (MaxPooling2 (None, 24, 24, 64)        0         \n",
      "_________________________________________________________________\n",
      "activation_1 (Activation)    (None, 24, 24, 64)        0         \n",
      "_________________________________________________________________\n",
      "separable_conv2d (SeparableC (None, 24, 24, 128)       8896      \n",
      "_________________________________________________________________\n",
      "batch_normalization_2 (Batch (None, 24, 24, 128)       512       \n",
      "_________________________________________________________________\n",
      "activation_2 (Activation)    (None, 24, 24, 128)       0         \n",
      "_________________________________________________________________\n",
      "separable_conv2d_1 (Separabl (None, 24, 24, 128)       17664     \n",
      "_________________________________________________________________\n",
      "batch_normalization_3 (Batch (None, 24, 24, 128)       512       \n",
      "_________________________________________________________________\n",
      "max_pooling2d_2 (MaxPooling2 (None, 11, 11, 128)       0         \n",
      "_________________________________________________________________\n",
      "activation_3 (Activation)    (None, 11, 11, 128)       0         \n",
      "_________________________________________________________________\n",
      "separable_conv2d_2 (Separabl (None, 11, 11, 256)       34176     \n",
      "_________________________________________________________________\n",
      "batch_normalization_4 (Batch (None, 11, 11, 256)       1024      \n",
      "_________________________________________________________________\n",
      "activation_4 (Activation)    (None, 11, 11, 256)       0         \n",
      "_________________________________________________________________\n",
      "separable_conv2d_3 (Separabl (None, 11, 11, 256)       68096     \n",
      "_________________________________________________________________\n",
      "batch_normalization_5 (Batch (None, 11, 11, 256)       1024      \n",
      "_________________________________________________________________\n",
      "max_pooling2d_3 (MaxPooling2 (None, 5, 5, 256)         0         \n",
      "_________________________________________________________________\n",
      "activation_5 (Activation)    (None, 5, 5, 256)         0         \n",
      "_________________________________________________________________\n",
      "separable_conv2d_4 (Separabl (None, 5, 5, 256)         68096     \n",
      "_________________________________________________________________\n",
      "batch_normalization_6 (Batch (None, 5, 5, 256)         1024      \n",
      "_________________________________________________________________\n",
      "activation_6 (Activation)    (None, 5, 5, 256)         0         \n",
      "_________________________________________________________________\n",
      "separable_conv2d_5 (Separabl (None, 5, 5, 256)         68096     \n",
      "_________________________________________________________________\n",
      "batch_normalization_7 (Batch (None, 5, 5, 256)         1024      \n",
      "_________________________________________________________________\n",
      "max_pooling2d_4 (MaxPooling2 (None, 2, 2, 256)         0         \n",
      "_________________________________________________________________\n",
      "activation_7 (Activation)    (None, 2, 2, 256)         0         \n",
      "_________________________________________________________________\n",
      "separable_conv2d_6 (Separabl (None, 2, 2, 512)         133888    \n",
      "_________________________________________________________________\n",
      "batch_normalization_8 (Batch (None, 2, 2, 512)         2048      \n",
      "_________________________________________________________________\n",
      "activation_8 (Activation)    (None, 2, 2, 512)         0         \n",
      "_________________________________________________________________\n",
      "global_average_pooling2d (Gl (None, 512)               0         \n",
      "_________________________________________________________________\n",
      "dropout (Dropout)            (None, 512)               0         \n",
      "_________________________________________________________________\n",
      "dense (Dense)                (None, 256)               131328    \n",
      "_________________________________________________________________\n",
      "dropout_1 (Dropout)          (None, 256)               0         \n",
      "_________________________________________________________________\n",
      "dense_1 (Dense)              (None, 128)               32896     \n",
      "_________________________________________________________________\n",
      "dropout_2 (Dropout)          (None, 128)               0         \n",
      "_________________________________________________________________\n",
      "dense_2 (Dense)              (None, 40)                5160      \n",
      "=================================================================\n",
      "Total params: 613,544\n",
      "Trainable params: 609,704\n",
      "Non-trainable params: 3,840\n",
      "_________________________________________________________________\n"
     ]
    }
   ],
   "source": [
    "model.summary()"
   ]
  },
  {
   "cell_type": "code",
   "execution_count": 13,
   "id": "driven-disorder",
   "metadata": {},
   "outputs": [
    {
     "name": "stdout",
     "output_type": "stream",
     "text": [
      "Epoch 1/10\n",
      "78/78 [==============================] - 9s 74ms/step - loss: 1.8351 - accuracy: 0.5326 - val_loss: 3.6545 - val_accuracy: 0.0472\n",
      "Epoch 2/10\n",
      "78/78 [==============================] - 5s 63ms/step - loss: 0.7351 - accuracy: 0.8034 - val_loss: 3.6826 - val_accuracy: 0.0157\n",
      "Epoch 3/10\n",
      "78/78 [==============================] - 5s 63ms/step - loss: 0.4539 - accuracy: 0.8772 - val_loss: 3.7353 - val_accuracy: 0.0157\n",
      "Epoch 4/10\n",
      "78/78 [==============================] - 5s 64ms/step - loss: 0.2910 - accuracy: 0.9133 - val_loss: 3.9321 - val_accuracy: 0.0157\n",
      "Epoch 5/10\n",
      "78/78 [==============================] - 5s 63ms/step - loss: 0.2815 - accuracy: 0.9189 - val_loss: 4.0571 - val_accuracy: 0.0157\n",
      "Epoch 6/10\n",
      "78/78 [==============================] - 5s 64ms/step - loss: 0.2462 - accuracy: 0.9283 - val_loss: 4.0385 - val_accuracy: 0.0157\n",
      "Epoch 7/10\n",
      "78/78 [==============================] - 5s 63ms/step - loss: 0.1429 - accuracy: 0.9623 - val_loss: 4.4075 - val_accuracy: 0.0157\n",
      "Epoch 8/10\n",
      "78/78 [==============================] - 5s 63ms/step - loss: 0.1275 - accuracy: 0.9651 - val_loss: 4.5814 - val_accuracy: 0.0236\n",
      "Epoch 9/10\n",
      "78/78 [==============================] - 5s 64ms/step - loss: 0.1757 - accuracy: 0.9542 - val_loss: 12.7333 - val_accuracy: 0.0252\n",
      "Epoch 10/10\n",
      "78/78 [==============================] - 5s 64ms/step - loss: 0.1224 - accuracy: 0.9660 - val_loss: 5.6278 - val_accuracy: 0.0126\n"
     ]
    }
   ],
   "source": [
    "model.compile(optimizer='adam', loss='categorical_crossentropy',  metrics=['accuracy'])\n",
    "\n",
    "run_hist = model.fit(x_train, y_train,\n",
    "                     epochs=10,\n",
    "                     validation_data=(x_test, y_test),\n",
    "                     callbacks=[tf.keras.callbacks.EarlyStopping(monitor='val_accuracy', patience=15)])"
   ]
  },
  {
   "cell_type": "code",
   "execution_count": 14,
   "id": "thick-ambassador",
   "metadata": {},
   "outputs": [
    {
     "name": "stdout",
     "output_type": "stream",
     "text": [
      "20/20 [==============================] - 0s 19ms/step - loss: 5.6278 - accuracy: 0.0126\n",
      "Loss: 5.627755641937256\n",
      "Accuracy: 0.012598425149917603\n"
     ]
    }
   ],
   "source": [
    "scores = model.evaluate(x_test, y_test)\n",
    "\n",
    "print(\"Loss: \" + str(scores[0]))\n",
    "print(\"Accuracy: \" + str(scores[1]))"
   ]
  },
  {
   "cell_type": "code",
   "execution_count": 15,
   "id": "capital-trade",
   "metadata": {},
   "outputs": [
    {
     "data": {
      "image/png": "[encoded data removed]",
      "text/plain": [
       "<Figure size 432x288 with 1 Axes>"
      ]
     },
     "metadata": {
      "needs_background": "light"
     },
     "output_type": "display_data"
    }
   ],
   "source": [
    "plt.plot(run_hist.history['loss'], color='r', label='Train Loss')\n",
    "plt.plot(run_hist.history['val_loss'], color='b', label='Validation Loss')\n",
    "plt.xlabel('epoch')\n",
    "plt.legend()\n",
    "plt.grid()\n",
    "plt.show()"
   ]
  },
  {
   "cell_type": "code",
   "execution_count": 16,
   "id": "aggregate-apollo",
   "metadata": {},
   "outputs": [
    {
     "data": {
      "image/png": "[encoded data removed]",
      "text/plain": [
       "<Figure size 432x288 with 1 Axes>"
      ]
     },
     "metadata": {
      "needs_background": "light"
     },
     "output_type": "display_data"
    }
   ],
   "source": [
    "plt.plot(run_hist.history['accuracy'], color='r', label='Train Accuracy')\n",
    "plt.plot(run_hist.history['val_accuracy'], color='b', label='Validation Accuracy')\n",
    "plt.xlabel('epoch')\n",
    "plt.legend()\n",
    "plt.grid()\n",
    "plt.show()"
   ]
  },
  {
   "cell_type": "code",
   "execution_count": 17,
   "id": "3d18e26b-a167-4d26-81d6-b08189d6991e",
   "metadata": {},
   "outputs": [
    {
     "data": {
      "text/plain": [
       "[Text(0.5, 123.0, 'Predicted label'), Text(168.0, 0.5, 'True label')]"
      ]
     },
     "execution_count": 17,
     "metadata": {},
     "output_type": "execute_result"
    },
    {
     "data": {
      "image/png": "[encoded data removed]",
      "text/plain": [
       "<Figure size 1512x1152 with 2 Axes>"
      ]
     },
     "metadata": {
      "needs_background": "light"
     },
     "output_type": "display_data"
    }
   ],
   "source": [
    "y_pred = [np.argmax(i) for i in model.predict(x_test)]\n",
    "y_true = np.asarray([np.argmax(i) for i in y_test])\n",
    "\n",
    "cm = confusion_matrix(y_true, y_pred)\n",
    "df_cm = pd.DataFrame(cm)\n",
    "\n",
    "plt.figure(figsize = (21,16))\n",
    "ax = sn.heatmap(df_cm, cmap=\"Blues\")\n",
    "ax.set(xlabel='Predicted label', ylabel='True label')"
   ]
  },
  {
   "cell_type": "markdown",
   "id": "cosmetic-capitol",
   "metadata": {},
   "source": [
    "## Modified model"
   ]
  },
  {
   "cell_type": "code",
   "execution_count": 18,
   "id": "elect-swaziland",
   "metadata": {},
   "outputs": [],
   "source": [
    "images_train, targets_train = readHieroglyphData(train_dir)\n",
    "images_test, targets_test = readHieroglyphData(test_dir)"
   ]
  },
  {
   "cell_type": "code",
   "execution_count": 19,
   "id": "micro-upper",
   "metadata": {},
   "outputs": [],
   "source": [
    "labels_train = le.transform(targets_train)\n",
    "labels_test = le.transform(targets_test)"
   ]
  },
  {
   "cell_type": "code",
   "execution_count": 20,
   "id": "adjustable-savage",
   "metadata": {},
   "outputs": [
    {
     "data": {
      "text/plain": [
       "(2467, 75, 50, 1)"
      ]
     },
     "execution_count": 20,
     "metadata": {},
     "output_type": "execute_result"
    }
   ],
   "source": [
    "num_labels = len(le.classes_)\n",
    "x_train = np.expand_dims(images_train, -1) / 255.\n",
    "x_test = np.expand_dims(images_test, -1) / 255.\n",
    "\n",
    "y_train = to_categorical(labels_train, num_labels)\n",
    "y_test = to_categorical(labels_test, num_labels)\n",
    "\n",
    "x_train.shape"
   ]
  },
  {
   "cell_type": "code",
   "execution_count": 21,
   "id": "equivalent-specification",
   "metadata": {},
   "outputs": [],
   "source": [
    "model = Sequential()\n",
    "\n",
    "#first block\n",
    "model.add(Conv2D(64, kernel_size=(3, 3), strides=(1, 1), input_shape=(75, 50, 1), padding='same'))\n",
    "model.add(BatchNormalization())\n",
    "model.add(MaxPooling2D(pool_size=(3, 3), strides=(2, 2)))\n",
    "model.add(Activation('relu'))\n",
    "model.add(Conv2D(64, kernel_size=(3, 3), strides=(1, 1), padding='same'))\n",
    "model.add(BatchNormalization())\n",
    "model.add(MaxPooling2D(pool_size=(3, 3), strides=(2, 2)))\n",
    "model.add(Activation('relu'))\n",
    "\n",
    "#second block\n",
    "model.add(SeparableConv2D(128, kernel_size=(3, 3), strides=(1, 1), padding='same'))\n",
    "model.add(BatchNormalization())\n",
    "model.add(Activation('relu'))\n",
    "model.add(SeparableConv2D(128, kernel_size=(3, 3), strides=(1, 1), padding='same'))\n",
    "model.add(BatchNormalization())\n",
    "model.add(MaxPooling2D(pool_size=(3, 3), strides=(2, 2)))\n",
    "model.add(Activation('relu'))\n",
    "\n",
    "#third block\n",
    "model.add(SeparableConv2D(256, kernel_size=(3, 3), strides=(1, 1), padding='same'))\n",
    "model.add(BatchNormalization())\n",
    "model.add(Activation('relu'))\n",
    "model.add(SeparableConv2D(256, kernel_size=(3, 3), strides=(1, 1), padding='same'))\n",
    "model.add(BatchNormalization())\n",
    "model.add(MaxPooling2D(pool_size=(3, 3), strides=(2, 2)))\n",
    "model.add(Activation('relu'))\n",
    "\n",
    "#fourth block\n",
    "model.add(SeparableConv2D(512, kernel_size=(3, 3), strides=(1, 1), padding='same'))\n",
    "model.add(BatchNormalization())\n",
    "model.add(Activation('relu'))\n",
    "model.add(GlobalAveragePooling2D())\n",
    "model.add(Dropout(0.15))\n",
    "\n",
    "model.add(Dense(256, activation='relu'))\n",
    "model.add(Dropout(0.3))\n",
    "model.add(Dense(128, activation='relu'))\n",
    "model.add(Dropout(0.3))\n",
    "\n",
    "model.add(Dense(num_labels, activation='softmax'))"
   ]
  },
  {
   "cell_type": "code",
   "execution_count": 22,
   "id": "champion-motorcycle",
   "metadata": {},
   "outputs": [
    {
     "name": "stdout",
     "output_type": "stream",
     "text": [
      "Epoch 1/10\n",
      "78/78 [==============================] - 5s 38ms/step - loss: 1.9759 - accuracy: 0.4909 - val_loss: 3.6272 - val_accuracy: 0.0583\n",
      "Epoch 2/10\n",
      "78/78 [==============================] - 2s 29ms/step - loss: 0.8558 - accuracy: 0.7799 - val_loss: 3.6690 - val_accuracy: 0.0220\n",
      "Epoch 3/10\n",
      "78/78 [==============================] - 2s 29ms/step - loss: 0.4834 - accuracy: 0.8715 - val_loss: 3.6744 - val_accuracy: 0.0220\n",
      "Epoch 4/10\n",
      "78/78 [==============================] - 2s 30ms/step - loss: 0.3418 - accuracy: 0.9068 - val_loss: 3.9776 - val_accuracy: 0.0220\n",
      "Epoch 5/10\n",
      "78/78 [==============================] - 2s 29ms/step - loss: 0.3232 - accuracy: 0.9060 - val_loss: 4.0561 - val_accuracy: 0.0220\n",
      "Epoch 6/10\n",
      "78/78 [==============================] - 2s 29ms/step - loss: 0.2307 - accuracy: 0.9319 - val_loss: 3.5177 - val_accuracy: 0.0394\n",
      "Epoch 7/10\n",
      "78/78 [==============================] - 2s 29ms/step - loss: 0.2460 - accuracy: 0.9368 - val_loss: 1.1958 - val_accuracy: 0.6236\n",
      "Epoch 8/10\n",
      "78/78 [==============================] - 2s 29ms/step - loss: 0.1089 - accuracy: 0.9692 - val_loss: 0.2326 - val_accuracy: 0.9354\n",
      "Epoch 9/10\n",
      "78/78 [==============================] - 2s 29ms/step - loss: 0.0857 - accuracy: 0.9781 - val_loss: 0.1722 - val_accuracy: 0.9512\n",
      "Epoch 10/10\n",
      "78/78 [==============================] - 2s 29ms/step - loss: 0.2252 - accuracy: 0.9392 - val_loss: 0.2337 - val_accuracy: 0.9449\n"
     ]
    }
   ],
   "source": [
    "model.compile(optimizer='adam', loss='categorical_crossentropy',  metrics=['accuracy'])\n",
    "\n",
    "run_hist = model.fit(x_train, y_train,\n",
    "                     epochs=10,\n",
    "                     validation_data=(x_test, y_test),\n",
    "                     callbacks=[tf.keras.callbacks.EarlyStopping(monitor='val_accuracy', patience=15)])"
   ]
  },
  {
   "cell_type": "code",
   "execution_count": 23,
   "id": "promising-welcome",
   "metadata": {},
   "outputs": [
    {
     "name": "stdout",
     "output_type": "stream",
     "text": [
      "20/20 [==============================] - 0s 9ms/step - loss: 0.2337 - accuracy: 0.9449\n",
      "Loss: 0.23373672366142273\n",
      "Accuracy: 0.9448819160461426\n"
     ]
    }
   ],
   "source": [
    "scores = model.evaluate(x_test, y_test)\n",
    "\n",
    "print(\"Loss: \" + str(scores[0]))\n",
    "print(\"Accuracy: \" + str(scores[1]))"
   ]
  },
  {
   "cell_type": "code",
   "execution_count": 24,
   "id": "gorgeous-rings",
   "metadata": {},
   "outputs": [
    {
     "data": {
      "image/png": "[encoded data removed]",
      "text/plain": [
       "<Figure size 432x288 with 1 Axes>"
      ]
     },
     "metadata": {
      "needs_background": "light"
     },
     "output_type": "display_data"
    }
   ],
   "source": [
    "plt.plot(run_hist.history['loss'], color='r', label='Train Loss')\n",
    "plt.plot(run_hist.history['val_loss'], color='b', label='Validation Loss')\n",
    "plt.xlabel('epoch')\n",
    "plt.legend()\n",
    "plt.grid()\n",
    "plt.show()"
   ]
  },
  {
   "cell_type": "code",
   "execution_count": 25,
   "id": "spoken-johnston",
   "metadata": {},
   "outputs": [
    {
     "data": {
      "image/png": "[encoded data removed]",
      "text/plain": [
       "<Figure size 432x288 with 1 Axes>"
      ]
     },
     "metadata": {
      "needs_background": "light"
     },
     "output_type": "display_data"
    }
   ],
   "source": [
    "plt.plot(run_hist.history['accuracy'], color='r', label='Train Accuracy')\n",
    "plt.plot(run_hist.history['val_accuracy'], color='b', label='Validation Accuracy')\n",
    "plt.xlabel('epoch')\n",
    "plt.legend()\n",
    "plt.grid()\n",
    "plt.show()"
   ]
  },
  {
   "cell_type": "code",
   "execution_count": 26,
   "id": "curious-blair",
   "metadata": {},
   "outputs": [
    {
     "data": {
      "text/plain": [
       "[Text(0.5, 123.0, 'Predicted label'), Text(168.0, 0.5, 'True label')]"
      ]
     },
     "execution_count": 26,
     "metadata": {},
     "output_type": "execute_result"
    },
    {
     "data": {
      "image/png": "[encoded data removed]",
      "text/plain": [
       "<Figure size 1512x1152 with 2 Axes>"
      ]
     },
     "metadata": {
      "needs_background": "light"
     },
     "output_type": "display_data"
    }
   ],
   "source": [
    "y_pred = [np.argmax(i) for i in model.predict(x_test)]\n",
    "y_true = np.asarray([np.argmax(i) for i in y_test])\n",
    "\n",
    "cm = confusion_matrix(y_true, y_pred)\n",
    "df_cm = pd.DataFrame(cm)\n",
    "\n",
    "plt.figure(figsize = (21,16))\n",
    "ax = sn.heatmap(df_cm, cmap=\"Blues\")\n",
    "ax.set(xlabel='Predicted label', ylabel='True label')"
   ]
  }
 ],
 "metadata": {
  "kernelspec": {
   "display_name": "Python 3",
   "language": "python",
   "name": "python3"
  },
  "language_info": {
   "codemirror_mode": {
    "name": "ipython",
    "version": 3
   },
   "file_extension": ".py",
   "mimetype": "text/x-python",
   "name": "python",
   "nbconvert_exporter": "python",
   "pygments_lexer": "ipython3",
   "version": "3.8.8"
  }
 },
 "nbformat": 4,
 "nbformat_minor": 5
}
