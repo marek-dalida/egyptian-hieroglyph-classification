{
 "cells": [
  {
   "cell_type": "code",
   "execution_count": 1,
   "id": "integrated-siemens",
   "metadata": {},
   "outputs": [],
   "source": [
    "import tensorflow as tf\n",
    "import os\n",
    "import numpy as np\n",
    "import pandas as pd\n",
    "import matplotlib.pyplot as plt\n",
    "import sys\n",
    "\n",
    "import skimage\n",
    "from skimage import io\n",
    "from skimage.transform import resize\n",
    "\n",
    "from sklearn.metrics import confusion_matrix, ConfusionMatrixDisplay\n",
    "import pandas as pd\n",
    "import seaborn as sn"
   ]
  },
  {
   "cell_type": "code",
   "execution_count": 2,
   "id": "close-mileage",
   "metadata": {},
   "outputs": [],
   "source": [
    "train_dir = os.path.join(sys.path[0], 'train/')\n",
    "test_dir = os.path.join(sys.path[0], 'test/')"
   ]
  },
  {
   "cell_type": "code",
   "execution_count": 3,
   "id": "satisfied-talent",
   "metadata": {},
   "outputs": [],
   "source": [
    "def readHieroglyphData(data_dir):\n",
    "    images = []\n",
    "    targets = []\n",
    "    for hier in os.listdir(data_dir):\n",
    "        if not os.path.isdir(os.path.join(data_dir, hier)):\n",
    "            continue\n",
    "        for img in os.listdir(os.path.join(data_dir, hier)):\n",
    "            targets.append(hier)\n",
    "            images.append(np.asarray(io.imread(os.path.join(data_dir, hier, img))))\n",
    "    return images, targets"
   ]
  },
  {
   "cell_type": "code",
   "execution_count": 4,
   "id": "simplified-aviation",
   "metadata": {},
   "outputs": [],
   "source": [
    "def resizeImageData(data, image_size):\n",
    "    resize_func = lambda img: resize(img, (image_size, image_size), anti_aliasing=True)\n",
    "    resized_data = list(map(resize_func, data))\n",
    "    return resized_data"
   ]
  },
  {
   "cell_type": "code",
   "execution_count": 5,
   "id": "alternate-potter",
   "metadata": {},
   "outputs": [],
   "source": [
    "images_train, targets_train = readHieroglyphData(train_dir)"
   ]
  },
  {
   "cell_type": "code",
   "execution_count": 6,
   "id": "afraid-dietary",
   "metadata": {},
   "outputs": [],
   "source": [
    "images_test, targets_test = readHieroglyphData(test_dir)"
   ]
  },
  {
   "cell_type": "code",
   "execution_count": 7,
   "id": "decent-spectrum",
   "metadata": {},
   "outputs": [],
   "source": [
    "#Images have to have at least 71x71\n",
    "images_train = resizeImageData(images_train, 100)\n",
    "images_test = resizeImageData(images_test, 100)"
   ]
  },
  {
   "cell_type": "code",
   "execution_count": 8,
   "id": "million-controversy",
   "metadata": {},
   "outputs": [
    {
     "name": "stdout",
     "output_type": "stream",
     "text": [
      "['D2', 'D21', 'D36', 'D4', 'D46', 'D58', 'E23', 'E34', 'F31', 'F35', 'G1', 'G17', 'G43', 'I10', 'I9', 'M17', 'M23', 'N35', 'O1', 'O34', 'O4', 'O49', 'Q1', 'Q3', 'R4', 'R8', 'S29', 'S34', 'U7', 'V13', 'V28', 'V30', 'V31', 'W11', 'W24', 'X1', 'X8', 'Y1', 'Y5', 'Z1']\n"
     ]
    }
   ],
   "source": [
    "from sklearn.preprocessing import LabelEncoder\n",
    "\n",
    "le = LabelEncoder()\n",
    "le.fit(targets_train)\n",
    "print(list(le.classes_))"
   ]
  },
  {
   "cell_type": "code",
   "execution_count": 9,
   "id": "published-attendance",
   "metadata": {},
   "outputs": [],
   "source": [
    "labels_train = le.transform(targets_train)\n",
    "labels_test = le.transform(targets_test)"
   ]
  },
  {
   "cell_type": "code",
   "execution_count": 10,
   "id": "negative-scroll",
   "metadata": {},
   "outputs": [
    {
     "data": {
      "text/plain": [
       "(2467, 100, 100, 1)"
      ]
     },
     "execution_count": 10,
     "metadata": {},
     "output_type": "execute_result"
    }
   ],
   "source": [
    "from tensorflow.keras.utils import to_categorical\n",
    "from sklearn.model_selection import train_test_split\n",
    "\n",
    "num_labels = len(le.classes_)\n",
    "x_train = np.expand_dims(images_train, -1) \n",
    "x_test = np.expand_dims(images_test, -1)\n",
    "\n",
    "y_train = to_categorical(labels_train, num_labels)\n",
    "y_test = to_categorical(labels_test, num_labels)\n",
    "\n",
    "x_train.shape"
   ]
  },
  {
   "cell_type": "code",
   "execution_count": 11,
   "id": "outside-macintosh",
   "metadata": {},
   "outputs": [],
   "source": [
    "from tensorflow.keras.applications import Xception\n",
    "from tensorflow.keras import layers, models\n",
    "\n",
    "image_shape = (100, 100, 3)\n",
    "base_model = Xception(include_top=False, input_shape=image_shape, pooling = 'avg', weights = 'imagenet')\n",
    "\n",
    "modelXception = models.Sequential()\n",
    "modelXception.add(base_model)\n",
    "\n",
    "modelXception.add(layers.Dense(256, activation=\"relu\"))\n",
    "modelXception.add(layers.Dropout(0.3))\n",
    "modelXception.add(layers.Dense(128, activation=\"relu\"))\n",
    "modelXception.add(layers.Dropout(0.3))\n",
    "\n",
    "modelXception.add(layers.Dense(num_labels, activation = 'softmax'))"
   ]
  },
  {
   "cell_type": "code",
   "execution_count": 12,
   "id": "settled-isaac",
   "metadata": {},
   "outputs": [
    {
     "name": "stdout",
     "output_type": "stream",
     "text": [
      "Model: \"sequential\"\n",
      "_________________________________________________________________\n",
      "Layer (type)                 Output Shape              Param #   \n",
      "=================================================================\n",
      "xception (Functional)        (None, 2048)              20861480  \n",
      "_________________________________________________________________\n",
      "dense (Dense)                (None, 256)               524544    \n",
      "_________________________________________________________________\n",
      "dropout (Dropout)            (None, 256)               0         \n",
      "_________________________________________________________________\n",
      "dense_1 (Dense)              (None, 128)               32896     \n",
      "_________________________________________________________________\n",
      "dropout_1 (Dropout)          (None, 128)               0         \n",
      "_________________________________________________________________\n",
      "dense_2 (Dense)              (None, 40)                5160      \n",
      "=================================================================\n",
      "Total params: 21,424,080\n",
      "Trainable params: 21,369,552\n",
      "Non-trainable params: 54,528\n",
      "_________________________________________________________________\n"
     ]
    }
   ],
   "source": [
    "modelXception.summary()"
   ]
  },
  {
   "cell_type": "code",
   "execution_count": 13,
   "id": "driven-timothy",
   "metadata": {},
   "outputs": [],
   "source": [
    "#https://stackoverflow.com/questions/51995977/how-can-i-use-a-pre-trained-neural-network-with-grayscale-images\n",
    "train_images_rgb = np.repeat(np.array(images_train)[..., np.newaxis], 3, -1)\n",
    "test_images_rgb = np.repeat(np.array(images_test)[..., np.newaxis], 3, -1)"
   ]
  },
  {
   "cell_type": "code",
   "execution_count": 14,
   "id": "fossil-representation",
   "metadata": {},
   "outputs": [],
   "source": [
    "train_images_rgb = tf.keras.applications.xception.preprocess_input(train_images_rgb)\n",
    "test_images_rgb = tf.keras.applications.xception.preprocess_input(test_images_rgb)"
   ]
  },
  {
   "cell_type": "code",
   "execution_count": 15,
   "id": "optional-nepal",
   "metadata": {},
   "outputs": [],
   "source": [
    "from tensorflow.keras.optimizers import Adam\n",
    "\n",
    "optimizer = Adam(learning_rate=0.001)"
   ]
  },
  {
   "cell_type": "code",
   "execution_count": 16,
   "id": "collaborative-devon",
   "metadata": {},
   "outputs": [
    {
     "name": "stdout",
     "output_type": "stream",
     "text": [
      "Epoch 1/20\n",
      "78/78 [==============================] - 33s 330ms/step - loss: 1.5604 - accuracy: 0.6246 - val_loss: 3.7020 - val_accuracy: 0.0252\n",
      "Epoch 2/20\n",
      "78/78 [==============================] - 24s 308ms/step - loss: 0.6823 - accuracy: 0.8338 - val_loss: 4.4352 - val_accuracy: 0.0220\n",
      "Epoch 3/20\n",
      "78/78 [==============================] - 24s 303ms/step - loss: 0.5231 - accuracy: 0.8796 - val_loss: 4.0062 - val_accuracy: 0.0835\n",
      "Epoch 4/20\n",
      "78/78 [==============================] - 24s 304ms/step - loss: 0.3890 - accuracy: 0.9039 - val_loss: 4.3060 - val_accuracy: 0.0898\n",
      "Epoch 5/20\n",
      "78/78 [==============================] - 24s 303ms/step - loss: 0.3398 - accuracy: 0.9218 - val_loss: 3.4351 - val_accuracy: 0.1213\n",
      "Epoch 6/20\n",
      "78/78 [==============================] - 24s 302ms/step - loss: 0.1997 - accuracy: 0.9505 - val_loss: 3.3493 - val_accuracy: 0.0598\n",
      "Epoch 7/20\n",
      "78/78 [==============================] - 24s 303ms/step - loss: 0.3380 - accuracy: 0.9254 - val_loss: 145.5581 - val_accuracy: 0.0189\n",
      "Epoch 8/20\n",
      "78/78 [==============================] - 24s 306ms/step - loss: 0.2379 - accuracy: 0.9384 - val_loss: 157.3530 - val_accuracy: 0.0630\n",
      "Epoch 9/20\n",
      "78/78 [==============================] - 24s 308ms/step - loss: 0.2001 - accuracy: 0.9493 - val_loss: 3.5510 - val_accuracy: 0.0756\n",
      "Epoch 10/20\n",
      "78/78 [==============================] - 24s 303ms/step - loss: 0.2151 - accuracy: 0.9473 - val_loss: 16.7602 - val_accuracy: 0.0047\n",
      "Epoch 11/20\n",
      "78/78 [==============================] - 24s 304ms/step - loss: 0.1667 - accuracy: 0.9627 - val_loss: 8.3702 - val_accuracy: 0.0047\n",
      "Epoch 12/20\n",
      "78/78 [==============================] - 24s 303ms/step - loss: 0.1156 - accuracy: 0.9724 - val_loss: 3.9729 - val_accuracy: 0.0236\n",
      "Epoch 13/20\n",
      "78/78 [==============================] - 24s 303ms/step - loss: 0.2089 - accuracy: 0.9538 - val_loss: 6.1994 - val_accuracy: 0.0472\n",
      "Epoch 14/20\n",
      "78/78 [==============================] - 24s 303ms/step - loss: 0.1763 - accuracy: 0.9522 - val_loss: 7.8539 - val_accuracy: 0.0047\n",
      "Epoch 15/20\n",
      "78/78 [==============================] - 23s 301ms/step - loss: 0.1323 - accuracy: 0.9676 - val_loss: 4.0069 - val_accuracy: 0.0079\n",
      "Epoch 16/20\n",
      "78/78 [==============================] - 24s 310ms/step - loss: 0.0760 - accuracy: 0.9805 - val_loss: 14.4217 - val_accuracy: 0.0126\n",
      "Epoch 17/20\n",
      "78/78 [==============================] - 24s 306ms/step - loss: 0.1542 - accuracy: 0.9672 - val_loss: 18.0286 - val_accuracy: 0.0740\n",
      "Epoch 18/20\n",
      "78/78 [==============================] - 24s 303ms/step - loss: 0.1332 - accuracy: 0.9684 - val_loss: 21.2979 - val_accuracy: 0.0142\n",
      "Epoch 19/20\n",
      "78/78 [==============================] - 24s 304ms/step - loss: 0.0744 - accuracy: 0.9826 - val_loss: 10.5820 - val_accuracy: 0.0016\n",
      "Epoch 20/20\n",
      "78/78 [==============================] - 24s 303ms/step - loss: 0.0675 - accuracy: 0.9834 - val_loss: 4.5661 - val_accuracy: 0.0031\n"
     ]
    }
   ],
   "source": [
    "modelXception.compile(optimizer = optimizer , loss = \"categorical_crossentropy\", metrics=[\"accuracy\"])\n",
    "\n",
    "train_history = modelXception.fit(\n",
    "    train_images_rgb, y_train,\n",
    "    epochs=20,\n",
    "    batch_size=32,\n",
    "    validation_data=(test_images_rgb, y_test))"
   ]
  },
  {
   "cell_type": "code",
   "execution_count": 17,
   "id": "existing-richards",
   "metadata": {},
   "outputs": [
    {
     "name": "stdout",
     "output_type": "stream",
     "text": [
      "20/20 [==============================] - 1s 66ms/step - loss: 4.5661 - accuracy: 0.0031\n",
      "Loss: 4.56613826751709\n",
      "Accuracy: 0.0031496062874794006\n"
     ]
    }
   ],
   "source": [
    "scores_resnet = modelXception.evaluate(test_images_rgb, y_test)\n",
    "\n",
    "print(\"Loss: \" + str(scores_resnet[0]))\n",
    "print(\"Accuracy: \" + str(scores_resnet[1]))"
   ]
  },
  {
   "cell_type": "code",
   "execution_count": 18,
   "id": "expanded-reggae",
   "metadata": {},
   "outputs": [
    {
     "data": {
      "image/png": "[encoded data removed]",
      "text/plain": [
       "<Figure size 432x288 with 1 Axes>"
      ]
     },
     "metadata": {
      "needs_background": "light"
     },
     "output_type": "display_data"
    }
   ],
   "source": [
    "plt.plot(train_history.history['loss'], color='r', label='Train Loss')\n",
    "plt.plot(train_history.history['val_loss'], color='b', label='Validation Loss')\n",
    "plt.xlabel('epoch')\n",
    "plt.legend()\n",
    "plt.grid()\n",
    "plt.show()"
   ]
  },
  {
   "cell_type": "code",
   "execution_count": 19,
   "id": "banner-wallet",
   "metadata": {},
   "outputs": [
    {
     "data": {
      "image/png": "[encoded data removed]",
      "text/plain": [
       "<Figure size 432x288 with 1 Axes>"
      ]
     },
     "metadata": {
      "needs_background": "light"
     },
     "output_type": "display_data"
    }
   ],
   "source": [
    "plt.plot(train_history.history['accuracy'], color='r', label='Train Accuracy')\n",
    "plt.plot(train_history.history['val_accuracy'], color='b', label='Validation Accuracy')\n",
    "plt.xlabel('epoch')\n",
    "plt.legend()\n",
    "plt.grid()\n",
    "plt.show()"
   ]
  },
  {
   "cell_type": "code",
   "execution_count": 20,
   "id": "tropical-decline",
   "metadata": {},
   "outputs": [
    {
     "data": {
      "text/plain": [
       "[Text(0.5, 123.0, 'Predicted label'), Text(168.0, 0.5, 'True label')]"
      ]
     },
     "execution_count": 20,
     "metadata": {},
     "output_type": "execute_result"
    },
    {
     "data": {
      "image/png": "[encoded data removed]",
      "text/plain": [
       "<Figure size 1512x1152 with 2 Axes>"
      ]
     },
     "metadata": {
      "needs_background": "light"
     },
     "output_type": "display_data"
    }
   ],
   "source": [
    "y_pred = [np.argmax(i) for i in modelXception.predict(test_images_rgb)]\n",
    "y_true = np.asarray([np.argmax(i) for i in y_test])\n",
    "\n",
    "cm = confusion_matrix(y_true, y_pred)\n",
    "df_cm = pd.DataFrame(cm)\n",
    "\n",
    "plt.figure(figsize = (21,16))\n",
    "ax = sn.heatmap(df_cm, cmap=\"Blues\")\n",
    "ax.set(xlabel='Predicted label', ylabel='True label')"
   ]
  }
 ],
 "metadata": {
  "kernelspec": {
   "display_name": "Python 3",
   "language": "python",
   "name": "python3"
  },
  "language_info": {
   "codemirror_mode": {
    "name": "ipython",
    "version": 3
   },
   "file_extension": ".py",
   "mimetype": "text/x-python",
   "name": "python",
   "nbconvert_exporter": "python",
   "pygments_lexer": "ipython3",
   "version": "3.8.8"
  }
 },
 "nbformat": 4,
 "nbformat_minor": 5
}
