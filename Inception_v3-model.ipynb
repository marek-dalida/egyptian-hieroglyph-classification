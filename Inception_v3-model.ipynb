{
 "cells": [
  {
   "cell_type": "code",
   "execution_count": 1,
   "id": "integrated-siemens",
   "metadata": {},
   "outputs": [],
   "source": [
    "import tensorflow as tf\n",
    "import os\n",
    "import numpy as np\n",
    "import pandas as pd\n",
    "import matplotlib.pyplot as plt\n",
    "import sys\n",
    "\n",
    "import skimage\n",
    "from skimage import io\n",
    "from skimage.transform import resize\n",
    "\n",
    "from sklearn.metrics import confusion_matrix, ConfusionMatrixDisplay\n",
    "import pandas as pd\n",
    "import seaborn as sn"
   ]
  },
  {
   "cell_type": "code",
   "execution_count": 2,
   "id": "close-mileage",
   "metadata": {},
   "outputs": [],
   "source": [
    "train_dir = os.path.join(sys.path[0], 'train/')\n",
    "test_dir = os.path.join(sys.path[0], 'test/')"
   ]
  },
  {
   "cell_type": "code",
   "execution_count": 3,
   "id": "satisfied-talent",
   "metadata": {},
   "outputs": [],
   "source": [
    "def readHieroglyphData(data_dir):\n",
    "    images = []\n",
    "    targets = []\n",
    "    for hier in os.listdir(data_dir):\n",
    "        if not os.path.isdir(os.path.join(data_dir, hier)):\n",
    "            continue\n",
    "        for img in os.listdir(os.path.join(data_dir, hier)):\n",
    "            targets.append(hier)\n",
    "            images.append(np.asarray(io.imread(os.path.join(data_dir, hier, img))))\n",
    "    return images, targets"
   ]
  },
  {
   "cell_type": "code",
   "execution_count": 4,
   "id": "simplified-aviation",
   "metadata": {},
   "outputs": [],
   "source": [
    "def resizeImageData(data, image_size):\n",
    "    resize_func = lambda img: resize(img, (image_size, image_size), anti_aliasing=True)\n",
    "    resized_data = list(map(resize_func, data))\n",
    "    return resized_data"
   ]
  },
  {
   "cell_type": "code",
   "execution_count": 5,
   "id": "alternate-potter",
   "metadata": {},
   "outputs": [],
   "source": [
    "images_train, targets_train = readHieroglyphData(train_dir)"
   ]
  },
  {
   "cell_type": "code",
   "execution_count": 6,
   "id": "afraid-dietary",
   "metadata": {},
   "outputs": [],
   "source": [
    "images_test, targets_test = readHieroglyphData(test_dir)"
   ]
  },
  {
   "cell_type": "code",
   "execution_count": 7,
   "id": "geological-service",
   "metadata": {},
   "outputs": [],
   "source": [
    "#Images have to have at least 75x75\n",
    "images_train = resizeImageData(images_train, 100)\n",
    "images_test = resizeImageData(images_test, 100)"
   ]
  },
  {
   "cell_type": "code",
   "execution_count": 8,
   "id": "million-controversy",
   "metadata": {},
   "outputs": [
    {
     "name": "stdout",
     "output_type": "stream",
     "text": [
      "['D2', 'D21', 'D36', 'D4', 'D46', 'D58', 'E23', 'E34', 'F31', 'F35', 'G1', 'G17', 'G43', 'I10', 'I9', 'M17', 'M23', 'N35', 'O1', 'O34', 'O4', 'O49', 'Q1', 'Q3', 'R4', 'R8', 'S29', 'S34', 'U7', 'V13', 'V28', 'V30', 'V31', 'W11', 'W24', 'X1', 'X8', 'Y1', 'Y5', 'Z1']\n"
     ]
    }
   ],
   "source": [
    "from sklearn.preprocessing import LabelEncoder\n",
    "\n",
    "le = LabelEncoder()\n",
    "le.fit(targets_train)\n",
    "print(list(le.classes_))"
   ]
  },
  {
   "cell_type": "code",
   "execution_count": 9,
   "id": "published-attendance",
   "metadata": {},
   "outputs": [],
   "source": [
    "labels_train = le.transform(targets_train)\n",
    "labels_test = le.transform(targets_test)"
   ]
  },
  {
   "cell_type": "code",
   "execution_count": 10,
   "id": "negative-scroll",
   "metadata": {},
   "outputs": [
    {
     "data": {
      "text/plain": [
       "(2467, 100, 100, 1)"
      ]
     },
     "execution_count": 10,
     "metadata": {},
     "output_type": "execute_result"
    }
   ],
   "source": [
    "from tensorflow.keras.utils import to_categorical\n",
    "from sklearn.model_selection import train_test_split\n",
    "\n",
    "num_labels = len(le.classes_)\n",
    "x_train = np.expand_dims(images_train, -1) \n",
    "x_test = np.expand_dims(images_test, -1)\n",
    "\n",
    "y_train = to_categorical(labels_train, num_labels)\n",
    "y_test = to_categorical(labels_test, num_labels)\n",
    "\n",
    "x_train.shape"
   ]
  },
  {
   "cell_type": "code",
   "execution_count": 11,
   "id": "outside-macintosh",
   "metadata": {},
   "outputs": [],
   "source": [
    "from tensorflow.keras.applications import InceptionV3\n",
    "from tensorflow.keras import layers, models\n",
    "\n",
    "image_shape = (100, 100, 3)\n",
    "base_model = InceptionV3(include_top=False, input_shape=image_shape, pooling = 'avg', weights = 'imagenet')\n",
    "\n",
    "modelInception = models.Sequential()\n",
    "modelInception.add(base_model)\n",
    "\n",
    "modelInception.add(layers.Dense(256, activation=\"relu\"))\n",
    "modelInception.add(layers.Dropout(0.3))\n",
    "modelInception.add(layers.Dense(128, activation=\"relu\"))\n",
    "modelInception.add(layers.Dropout(0.3))\n",
    "\n",
    "modelInception.add(layers.Dense(num_labels, activation = 'softmax'))"
   ]
  },
  {
   "cell_type": "code",
   "execution_count": 12,
   "id": "settled-isaac",
   "metadata": {},
   "outputs": [
    {
     "name": "stdout",
     "output_type": "stream",
     "text": [
      "Model: \"sequential\"\n",
      "_________________________________________________________________\n",
      "Layer (type)                 Output Shape              Param #   \n",
      "=================================================================\n",
      "inception_v3 (Functional)    (None, 2048)              21802784  \n",
      "_________________________________________________________________\n",
      "dense (Dense)                (None, 256)               524544    \n",
      "_________________________________________________________________\n",
      "dropout (Dropout)            (None, 256)               0         \n",
      "_________________________________________________________________\n",
      "dense_1 (Dense)              (None, 128)               32896     \n",
      "_________________________________________________________________\n",
      "dropout_1 (Dropout)          (None, 128)               0         \n",
      "_________________________________________________________________\n",
      "dense_2 (Dense)              (None, 40)                5160      \n",
      "=================================================================\n",
      "Total params: 22,365,384\n",
      "Trainable params: 22,330,952\n",
      "Non-trainable params: 34,432\n",
      "_________________________________________________________________\n"
     ]
    }
   ],
   "source": [
    "modelInception.summary()"
   ]
  },
  {
   "cell_type": "code",
   "execution_count": 13,
   "id": "driven-timothy",
   "metadata": {},
   "outputs": [],
   "source": [
    "#https://stackoverflow.com/questions/51995977/how-can-i-use-a-pre-trained-neural-network-with-grayscale-images\n",
    "train_images_rgb = np.repeat(np.array(images_train)[..., np.newaxis], 3, -1)\n",
    "test_images_rgb = np.repeat(np.array(images_test)[..., np.newaxis], 3, -1)"
   ]
  },
  {
   "cell_type": "code",
   "execution_count": 14,
   "id": "fossil-representation",
   "metadata": {},
   "outputs": [],
   "source": [
    "train_images_rgb = tf.keras.applications.inception_v3.preprocess_input(train_images_rgb)\n",
    "test_images_rgb = tf.keras.applications.inception_v3.preprocess_input(test_images_rgb)"
   ]
  },
  {
   "cell_type": "code",
   "execution_count": 15,
   "id": "optional-nepal",
   "metadata": {},
   "outputs": [],
   "source": [
    "from tensorflow.keras.optimizers import Adam\n",
    "\n",
    "optimizer = Adam(learning_rate=0.001)"
   ]
  },
  {
   "cell_type": "code",
   "execution_count": 16,
   "id": "collaborative-devon",
   "metadata": {},
   "outputs": [
    {
     "name": "stdout",
     "output_type": "stream",
     "text": [
      "Epoch 1/20\n",
      "78/78 [==============================] - 29s 208ms/step - loss: 2.0865 - accuracy: 0.5099 - val_loss: 22.9275 - val_accuracy: 0.1417\n",
      "Epoch 2/20\n",
      "78/78 [==============================] - 12s 151ms/step - loss: 1.0655 - accuracy: 0.7540 - val_loss: 5.2116 - val_accuracy: 0.0189\n",
      "Epoch 3/20\n",
      "78/78 [==============================] - 12s 150ms/step - loss: 0.8831 - accuracy: 0.7965 - val_loss: 4.0559 - val_accuracy: 0.0394\n",
      "Epoch 4/20\n",
      "78/78 [==============================] - 12s 150ms/step - loss: 0.6254 - accuracy: 0.8484 - val_loss: 4.3652 - val_accuracy: 0.0425\n",
      "Epoch 5/20\n",
      "78/78 [==============================] - 12s 149ms/step - loss: 0.7060 - accuracy: 0.8285 - val_loss: 3.4477 - val_accuracy: 0.0630\n",
      "Epoch 6/20\n",
      "78/78 [==============================] - 12s 148ms/step - loss: 0.5252 - accuracy: 0.8812 - val_loss: 3.7393 - val_accuracy: 0.0079\n",
      "Epoch 7/20\n",
      "78/78 [==============================] - 12s 148ms/step - loss: 0.6085 - accuracy: 0.8869 - val_loss: 3565.3977 - val_accuracy: 0.0630\n",
      "Epoch 8/20\n",
      "78/78 [==============================] - 12s 149ms/step - loss: 0.5326 - accuracy: 0.8837 - val_loss: 278.6765 - val_accuracy: 0.1417\n",
      "Epoch 9/20\n",
      "78/78 [==============================] - 12s 150ms/step - loss: 0.4610 - accuracy: 0.8910 - val_loss: 12.6924 - val_accuracy: 0.0252\n",
      "Epoch 10/20\n",
      "78/78 [==============================] - 12s 150ms/step - loss: 0.3639 - accuracy: 0.9023 - val_loss: 4.0336 - val_accuracy: 0.0630\n",
      "Epoch 11/20\n",
      "78/78 [==============================] - 12s 151ms/step - loss: 0.2556 - accuracy: 0.9278 - val_loss: 4.3641 - val_accuracy: 0.0063\n",
      "Epoch 12/20\n",
      "78/78 [==============================] - 12s 148ms/step - loss: 0.8590 - accuracy: 0.8188 - val_loss: 592631.5000 - val_accuracy: 0.0394\n",
      "Epoch 13/20\n",
      "78/78 [==============================] - 12s 148ms/step - loss: 0.7820 - accuracy: 0.8058 - val_loss: 30592.8066 - val_accuracy: 0.0394\n",
      "Epoch 14/20\n",
      "78/78 [==============================] - 12s 148ms/step - loss: 0.5823 - accuracy: 0.8585 - val_loss: 195.2152 - val_accuracy: 0.1150\n",
      "Epoch 15/20\n",
      "78/78 [==============================] - 12s 148ms/step - loss: 0.5779 - accuracy: 0.8614 - val_loss: 4.1814 - val_accuracy: 0.0126\n",
      "Epoch 16/20\n",
      "78/78 [==============================] - 12s 153ms/step - loss: 0.3931 - accuracy: 0.9047 - val_loss: 4.4290 - val_accuracy: 0.0394\n",
      "Epoch 17/20\n",
      "78/78 [==============================] - 12s 154ms/step - loss: 0.3854 - accuracy: 0.8999 - val_loss: 7.3398 - val_accuracy: 0.0394\n",
      "Epoch 18/20\n",
      "78/78 [==============================] - 12s 153ms/step - loss: 0.4952 - accuracy: 0.8747 - val_loss: 4.5261 - val_accuracy: 0.1150\n",
      "Epoch 19/20\n",
      "78/78 [==============================] - 12s 153ms/step - loss: 0.4550 - accuracy: 0.8869 - val_loss: 20.2128 - val_accuracy: 0.1150\n",
      "Epoch 20/20\n",
      "78/78 [==============================] - 12s 148ms/step - loss: 0.3617 - accuracy: 0.9169 - val_loss: 11.9741 - val_accuracy: 0.0126\n"
     ]
    }
   ],
   "source": [
    "modelInception.compile(optimizer = optimizer , loss = \"categorical_crossentropy\", metrics=[\"accuracy\"])\n",
    "\n",
    "train_history = modelInception.fit(\n",
    "    train_images_rgb, y_train,\n",
    "    epochs=20,\n",
    "    batch_size=32,\n",
    "    validation_data=(test_images_rgb, y_test))"
   ]
  },
  {
   "cell_type": "code",
   "execution_count": 17,
   "id": "existing-richards",
   "metadata": {},
   "outputs": [
    {
     "name": "stdout",
     "output_type": "stream",
     "text": [
      "20/20 [==============================] - 1s 37ms/step - loss: 11.9741 - accuracy: 0.0126\n",
      "Loss: 11.974145889282227\n",
      "Accuracy: 0.012598425149917603\n"
     ]
    }
   ],
   "source": [
    "scores_resnet = modelInception.evaluate(test_images_rgb, y_test)\n",
    "\n",
    "print(\"Loss: \" + str(scores_resnet[0]))\n",
    "print(\"Accuracy: \" + str(scores_resnet[1]))"
   ]
  },
  {
   "cell_type": "code",
   "execution_count": 18,
   "id": "expanded-reggae",
   "metadata": {},
   "outputs": [
    {
     "data": {
      "image/png": "[encoded data removed]",
      "text/plain": [
       "<Figure size 432x288 with 1 Axes>"
      ]
     },
     "metadata": {
      "needs_background": "light"
     },
     "output_type": "display_data"
    }
   ],
   "source": [
    "plt.plot(train_history.history['loss'], color='r', label='Train Loss')\n",
    "plt.plot(train_history.history['val_loss'], color='b', label='Validation Loss')\n",
    "plt.xlabel('epoch')\n",
    "plt.legend()\n",
    "plt.grid()\n",
    "plt.show()"
   ]
  },
  {
   "cell_type": "code",
   "execution_count": 19,
   "id": "banner-wallet",
   "metadata": {},
   "outputs": [
    {
     "data": {
      "image/png": "[encoded data removed]",
      "text/plain": [
       "<Figure size 432x288 with 1 Axes>"
      ]
     },
     "metadata": {
      "needs_background": "light"
     },
     "output_type": "display_data"
    }
   ],
   "source": [
    "plt.plot(train_history.history['accuracy'], color='r', label='Train Accuracy')\n",
    "plt.plot(train_history.history['val_accuracy'], color='b', label='Validation Accuracy')\n",
    "plt.xlabel('epoch')\n",
    "plt.legend()\n",
    "plt.grid()\n",
    "plt.show()"
   ]
  },
  {
   "cell_type": "code",
   "execution_count": 20,
   "id": "tropical-decline",
   "metadata": {},
   "outputs": [
    {
     "data": {
      "text/plain": [
       "[Text(0.5, 123.0, 'Predicted label'), Text(168.0, 0.5, 'True label')]"
      ]
     },
     "execution_count": 20,
     "metadata": {},
     "output_type": "execute_result"
    },
    {
     "data": {
      "image/png": "[encoded data removed]",
      "text/plain": [
       "<Figure size 1512x1152 with 2 Axes>"
      ]
     },
     "metadata": {
      "needs_background": "light"
     },
     "output_type": "display_data"
    }
   ],
   "source": [
    "y_pred = [np.argmax(i) for i in modelInception.predict(test_images_rgb)]\n",
    "y_true = np.asarray([np.argmax(i) for i in y_test])\n",
    "\n",
    "cm = confusion_matrix(y_true, y_pred)\n",
    "df_cm = pd.DataFrame(cm)\n",
    "\n",
    "plt.figure(figsize = (21,16))\n",
    "ax = sn.heatmap(df_cm, cmap=\"Blues\")\n",
    "ax.set(xlabel='Predicted label', ylabel='True label')"
   ]
  }
 ],
 "metadata": {
  "kernelspec": {
   "display_name": "Python 3",
   "language": "python",
   "name": "python3"
  },
  "language_info": {
   "codemirror_mode": {
    "name": "ipython",
    "version": 3
   },
   "file_extension": ".py",
   "mimetype": "text/x-python",
   "name": "python",
   "nbconvert_exporter": "python",
   "pygments_lexer": "ipython3",
   "version": "3.8.8"
  }
 },
 "nbformat": 4,
 "nbformat_minor": 5
}
