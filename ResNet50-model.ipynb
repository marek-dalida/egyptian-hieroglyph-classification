{
 "cells": [
  {
   "cell_type": "code",
   "execution_count": 1,
   "id": "excessive-democracy",
   "metadata": {},
   "outputs": [],
   "source": [
    "import tensorflow as tf\n",
    "import os\n",
    "import numpy as np\n",
    "import pandas as pd\n",
    "import matplotlib.pyplot as plt\n",
    "import sys\n",
    "\n",
    "import skimage\n",
    "from skimage import io\n",
    "from skimage.transform import resize\n",
    "\n",
    "from sklearn.metrics import confusion_matrix, ConfusionMatrixDisplay\n",
    "import pandas as pd\n",
    "import seaborn as sn"
   ]
  },
  {
   "cell_type": "code",
   "execution_count": 2,
   "id": "generous-artwork",
   "metadata": {},
   "outputs": [],
   "source": [
    "train_dir = os.path.join(sys.path[0], 'train/')\n",
    "test_dir = os.path.join(sys.path[0], 'test/')"
   ]
  },
  {
   "cell_type": "code",
   "execution_count": 3,
   "id": "entertaining-soviet",
   "metadata": {},
   "outputs": [],
   "source": [
    "def readHieroglyphData(data_dir):\n",
    "    images = []\n",
    "    targets = []\n",
    "    for hier in os.listdir(data_dir):\n",
    "        if not os.path.isdir(os.path.join(data_dir, hier)):\n",
    "            continue\n",
    "        for img in os.listdir(os.path.join(data_dir, hier)):\n",
    "            targets.append(hier)\n",
    "            images.append(np.asarray(io.imread(os.path.join(data_dir, hier, img))))\n",
    "    return images, targets"
   ]
  },
  {
   "cell_type": "code",
   "execution_count": 4,
   "id": "conditional-device",
   "metadata": {},
   "outputs": [],
   "source": [
    "def resizeImageData(data, image_size):\n",
    "    resize_func = lambda img: resize(img, (image_size, image_size), anti_aliasing=True)\n",
    "    resized_data = list(map(resize_func, data))\n",
    "    return resized_data"
   ]
  },
  {
   "cell_type": "code",
   "execution_count": 5,
   "id": "straight-crystal",
   "metadata": {},
   "outputs": [],
   "source": [
    "images_train, targets_train = readHieroglyphData(train_dir)"
   ]
  },
  {
   "cell_type": "code",
   "execution_count": 6,
   "id": "contrary-container",
   "metadata": {},
   "outputs": [],
   "source": [
    "images_test, targets_test = readHieroglyphData(test_dir)"
   ]
  },
  {
   "cell_type": "code",
   "execution_count": 7,
   "id": "incredible-indie",
   "metadata": {},
   "outputs": [
    {
     "name": "stdout",
     "output_type": "stream",
     "text": [
      "['D2', 'D21', 'D36', 'D4', 'D46', 'D58', 'E23', 'E34', 'F31', 'F35', 'G1', 'G17', 'G43', 'I10', 'I9', 'M17', 'M23', 'N35', 'O1', 'O34', 'O4', 'O49', 'Q1', 'Q3', 'R4', 'R8', 'S29', 'S34', 'U7', 'V13', 'V28', 'V30', 'V31', 'W11', 'W24', 'X1', 'X8', 'Y1', 'Y5', 'Z1']\n"
     ]
    }
   ],
   "source": [
    "from sklearn.preprocessing import LabelEncoder\n",
    "\n",
    "le = LabelEncoder()\n",
    "le.fit(targets_train)\n",
    "print(list(le.classes_))"
   ]
  },
  {
   "cell_type": "code",
   "execution_count": 8,
   "id": "descending-ocean",
   "metadata": {},
   "outputs": [],
   "source": [
    "labels_train = le.transform(targets_train)\n",
    "labels_test = le.transform(targets_test)"
   ]
  },
  {
   "cell_type": "code",
   "execution_count": 9,
   "id": "experimental-delta",
   "metadata": {},
   "outputs": [
    {
     "data": {
      "text/plain": [
       "(2467, 75, 50, 1)"
      ]
     },
     "execution_count": 9,
     "metadata": {},
     "output_type": "execute_result"
    }
   ],
   "source": [
    "from tensorflow.keras.utils import to_categorical\n",
    "from sklearn.model_selection import train_test_split\n",
    "\n",
    "num_labels = len(le.classes_)\n",
    "x_train = np.expand_dims(images_train, -1) \n",
    "x_test = np.expand_dims(images_test, -1)\n",
    "\n",
    "y_train = to_categorical(labels_train, num_labels)\n",
    "y_test = to_categorical(labels_test, num_labels)\n",
    "\n",
    "x_train.shape"
   ]
  },
  {
   "cell_type": "code",
   "execution_count": 10,
   "id": "literary-invitation",
   "metadata": {},
   "outputs": [],
   "source": [
    "from tensorflow.keras.applications import ResNet50\n",
    "from tensorflow.keras import layers, models\n",
    "\n",
    "image_shape = (75, 50, 3)\n",
    "base_model = ResNet50(include_top=False, input_shape=image_shape, pooling = 'avg', weights = 'imagenet')\n",
    "\n",
    "modelResNet = models.Sequential()\n",
    "modelResNet.add(base_model)\n",
    "\n",
    "modelResNet.add(layers.Dense(256, activation=\"relu\"))\n",
    "modelResNet.add(layers.Dropout(0.3))\n",
    "modelResNet.add(layers.Dense(128, activation=\"relu\"))\n",
    "modelResNet.add(layers.Dropout(0.3))\n",
    "\n",
    "modelResNet.add(layers.Dense(num_labels, activation = 'softmax'))"
   ]
  },
  {
   "cell_type": "code",
   "execution_count": 11,
   "id": "separated-cream",
   "metadata": {},
   "outputs": [
    {
     "name": "stdout",
     "output_type": "stream",
     "text": [
      "Model: \"sequential\"\n",
      "_________________________________________________________________\n",
      "Layer (type)                 Output Shape              Param #   \n",
      "=================================================================\n",
      "resnet50 (Functional)        (None, 2048)              23587712  \n",
      "_________________________________________________________________\n",
      "dense (Dense)                (None, 256)               524544    \n",
      "_________________________________________________________________\n",
      "dropout (Dropout)            (None, 256)               0         \n",
      "_________________________________________________________________\n",
      "dense_1 (Dense)              (None, 128)               32896     \n",
      "_________________________________________________________________\n",
      "dropout_1 (Dropout)          (None, 128)               0         \n",
      "_________________________________________________________________\n",
      "dense_2 (Dense)              (None, 40)                5160      \n",
      "=================================================================\n",
      "Total params: 24,150,312\n",
      "Trainable params: 24,097,192\n",
      "Non-trainable params: 53,120\n",
      "_________________________________________________________________\n"
     ]
    }
   ],
   "source": [
    "modelResNet.summary()"
   ]
  },
  {
   "cell_type": "code",
   "execution_count": 12,
   "id": "accompanied-cannon",
   "metadata": {},
   "outputs": [],
   "source": [
    "#https://stackoverflow.com/questions/51995977/how-can-i-use-a-pre-trained-neural-network-with-grayscale-images\n",
    "train_images_rgb = np.repeat(np.array(images_train)[..., np.newaxis], 3, -1)\n",
    "test_images_rgb = np.repeat(np.array(images_test)[..., np.newaxis], 3, -1)"
   ]
  },
  {
   "cell_type": "code",
   "execution_count": 13,
   "id": "gentle-pollution",
   "metadata": {},
   "outputs": [],
   "source": [
    "train_images_rgb = tf.keras.applications.resnet.preprocess_input(train_images_rgb)\n",
    "test_images_rgb = tf.keras.applications.resnet.preprocess_input(test_images_rgb)"
   ]
  },
  {
   "cell_type": "code",
   "execution_count": 14,
   "id": "offensive-translation",
   "metadata": {},
   "outputs": [],
   "source": [
    "from tensorflow.keras.optimizers import Adam\n",
    "\n",
    "optimizer = Adam(learning_rate=0.001, beta_1=0.9, beta_2=0.999, epsilon=None, decay=0.0, amsgrad=False)"
   ]
  },
  {
   "cell_type": "code",
   "execution_count": 15,
   "id": "periodic-riverside",
   "metadata": {},
   "outputs": [
    {
     "name": "stdout",
     "output_type": "stream",
     "text": [
      "Epoch 1/20\n",
      "78/78 [==============================] - 21s 182ms/step - loss: 1.6119 - accuracy: 0.6595 - val_loss: 125.1384 - val_accuracy: 0.0394\n",
      "Epoch 2/20\n",
      "78/78 [==============================] - 12s 155ms/step - loss: 0.7946 - accuracy: 0.8200 - val_loss: 1.4575 - val_accuracy: 0.7921\n",
      "Epoch 3/20\n",
      "78/78 [==============================] - 12s 155ms/step - loss: 0.4024 - accuracy: 0.8942 - val_loss: 0.3208 - val_accuracy: 0.9228\n",
      "Epoch 4/20\n",
      "78/78 [==============================] - 12s 154ms/step - loss: 0.3349 - accuracy: 0.9266 - val_loss: 0.4169 - val_accuracy: 0.8724\n",
      "Epoch 5/20\n",
      "78/78 [==============================] - 12s 159ms/step - loss: 0.3393 - accuracy: 0.9112 - val_loss: 0.2537 - val_accuracy: 0.9276\n",
      "Epoch 6/20\n",
      "78/78 [==============================] - 12s 154ms/step - loss: 0.1875 - accuracy: 0.9550 - val_loss: 0.3291 - val_accuracy: 0.9134\n",
      "Epoch 7/20\n",
      "78/78 [==============================] - 12s 156ms/step - loss: 0.1712 - accuracy: 0.9570 - val_loss: 0.3388 - val_accuracy: 0.9417\n",
      "Epoch 8/20\n",
      "78/78 [==============================] - 12s 156ms/step - loss: 0.1330 - accuracy: 0.9692 - val_loss: 0.4405 - val_accuracy: 0.9134\n",
      "Epoch 9/20\n",
      "78/78 [==============================] - 12s 157ms/step - loss: 0.2522 - accuracy: 0.9400 - val_loss: 1.2914 - val_accuracy: 0.7780\n",
      "Epoch 10/20\n",
      "78/78 [==============================] - 12s 157ms/step - loss: 0.1274 - accuracy: 0.9672 - val_loss: 0.2475 - val_accuracy: 0.9417\n",
      "Epoch 11/20\n",
      "78/78 [==============================] - 12s 156ms/step - loss: 0.1042 - accuracy: 0.9737 - val_loss: 0.1688 - val_accuracy: 0.9591\n",
      "Epoch 12/20\n",
      "78/78 [==============================] - 12s 155ms/step - loss: 0.0825 - accuracy: 0.9826 - val_loss: 0.1493 - val_accuracy: 0.9685\n",
      "Epoch 13/20\n",
      "78/78 [==============================] - 12s 156ms/step - loss: 0.0692 - accuracy: 0.9814 - val_loss: 0.1436 - val_accuracy: 0.9669\n",
      "Epoch 14/20\n",
      "78/78 [==============================] - 12s 156ms/step - loss: 0.0587 - accuracy: 0.9858 - val_loss: 0.2428 - val_accuracy: 0.9575\n",
      "Epoch 15/20\n",
      "78/78 [==============================] - 12s 156ms/step - loss: 0.0670 - accuracy: 0.9834 - val_loss: 0.1061 - val_accuracy: 0.9748\n",
      "Epoch 16/20\n",
      "78/78 [==============================] - 12s 156ms/step - loss: 0.0528 - accuracy: 0.9866 - val_loss: 0.3127 - val_accuracy: 0.9339\n",
      "Epoch 17/20\n",
      "78/78 [==============================] - 12s 156ms/step - loss: 0.0697 - accuracy: 0.9846 - val_loss: 0.1967 - val_accuracy: 0.9575\n",
      "Epoch 18/20\n",
      "78/78 [==============================] - 12s 155ms/step - loss: 0.3947 - accuracy: 0.9360 - val_loss: 1.2230 - val_accuracy: 0.7386\n",
      "Epoch 19/20\n",
      "78/78 [==============================] - 12s 156ms/step - loss: 0.2757 - accuracy: 0.9351 - val_loss: 5.1619 - val_accuracy: 0.8047\n",
      "Epoch 20/20\n",
      "78/78 [==============================] - 12s 156ms/step - loss: 0.0799 - accuracy: 0.9809 - val_loss: 0.1474 - val_accuracy: 0.9654\n"
     ]
    }
   ],
   "source": [
    "modelResNet.compile(optimizer = optimizer , loss = \"categorical_crossentropy\", metrics=[\"accuracy\"])\n",
    "\n",
    "train_history = modelResNet.fit(\n",
    "    train_images_rgb, y_train,\n",
    "    epochs=20,\n",
    "    batch_size=32,\n",
    "    validation_data=(test_images_rgb, y_test))"
   ]
  },
  {
   "cell_type": "code",
   "execution_count": 16,
   "id": "invalid-bidding",
   "metadata": {},
   "outputs": [
    {
     "name": "stdout",
     "output_type": "stream",
     "text": [
      "20/20 [==============================] - 1s 37ms/step - loss: 0.1474 - accuracy: 0.9654\n",
      "Loss: 0.1473819613456726\n",
      "Accuracy: 0.965354323387146\n"
     ]
    }
   ],
   "source": [
    "scores_resnet = modelResNet.evaluate(test_images_rgb, y_test)\n",
    "\n",
    "print(\"Loss: \" + str(scores_resnet[0]))\n",
    "print(\"Accuracy: \" + str(scores_resnet[1]))"
   ]
  },
  {
   "cell_type": "code",
   "execution_count": 17,
   "id": "shared-millennium",
   "metadata": {},
   "outputs": [
    {
     "data": {
      "image/png": "[encoded data removed]",
      "text/plain": [
       "<Figure size 432x288 with 1 Axes>"
      ]
     },
     "metadata": {
      "needs_background": "light"
     },
     "output_type": "display_data"
    }
   ],
   "source": [
    "plt.plot(train_history.history['loss'], color='r', label='Train Loss')\n",
    "plt.plot(train_history.history['val_loss'], color='b', label='Validation Loss')\n",
    "plt.xlabel('epoch')\n",
    "plt.legend()\n",
    "plt.grid()\n",
    "plt.show()"
   ]
  },
  {
   "cell_type": "code",
   "execution_count": 18,
   "id": "caroline-moderator",
   "metadata": {},
   "outputs": [
    {
     "data": {
      "image/png": "[encoded data removed]",
      "text/plain": [
       "<Figure size 432x288 with 1 Axes>"
      ]
     },
     "metadata": {
      "needs_background": "light"
     },
     "output_type": "display_data"
    }
   ],
   "source": [
    "plt.plot(train_history.history['accuracy'], color='r', label='Train Accuracy')\n",
    "plt.plot(train_history.history['val_accuracy'], color='b', label='Validation Accuracy')\n",
    "plt.xlabel('epoch')\n",
    "plt.legend()\n",
    "plt.grid()\n",
    "plt.show()"
   ]
  },
  {
   "cell_type": "code",
   "execution_count": 19,
   "id": "asian-shift",
   "metadata": {},
   "outputs": [
    {
     "data": {
      "text/plain": [
       "[Text(0.5, 123.0, 'Predicted label'), Text(168.0, 0.5, 'True label')]"
      ]
     },
     "execution_count": 19,
     "metadata": {},
     "output_type": "execute_result"
    },
    {
     "data": {
      "image/png": "[encoded data removed]",
      "text/plain": [
       "<Figure size 1512x1152 with 2 Axes>"
      ]
     },
     "metadata": {
      "needs_background": "light"
     },
     "output_type": "display_data"
    }
   ],
   "source": [
    "y_pred = [np.argmax(i) for i in modelResNet.predict(test_images_rgb)]\n",
    "y_true = np.asarray([np.argmax(i) for i in y_test])\n",
    "\n",
    "cm = confusion_matrix(y_true, y_pred)\n",
    "df_cm = pd.DataFrame(cm)\n",
    "\n",
    "plt.figure(figsize = (21,16))\n",
    "ax = sn.heatmap(df_cm, cmap=\"Blues\")\n",
    "ax.set(xlabel='Predicted label', ylabel='True label')"
   ]
  }
 ],
 "metadata": {
  "kernelspec": {
   "display_name": "Python 3",
   "language": "python",
   "name": "python3"
  },
  "language_info": {
   "codemirror_mode": {
    "name": "ipython",
    "version": 3
   },
   "file_extension": ".py",
   "mimetype": "text/x-python",
   "name": "python",
   "nbconvert_exporter": "python",
   "pygments_lexer": "ipython3",
   "version": "3.8.8"
  }
 },
 "nbformat": 4,
 "nbformat_minor": 5
}
